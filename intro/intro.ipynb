{
 "cells": [
  {
   "cell_type": "code",
   "execution_count": 1,
   "metadata": {
    "collapsed": false,
    "slideshow": {
     "slide_type": "skip"
    }
   },
   "outputs": [
    {
     "name": "stdout",
     "output_type": "stream",
     "text": [
      "Populating the interactive namespace from numpy and matplotlib\n"
     ]
    }
   ],
   "source": [
    "%pylab inline"
   ]
  },
  {
   "cell_type": "markdown",
   "metadata": {
    "slideshow": {
     "slide_type": "slide"
    }
   },
   "source": [
    "## Introduction to TensorFlow"
   ]
  },
  {
   "cell_type": "markdown",
   "metadata": {
    "slideshow": {
     "slide_type": "slide"
    }
   },
   "source": [
    "## Hello World in TensorFlow"
   ]
  },
  {
   "cell_type": "markdown",
   "metadata": {
    "slideshow": {
     "slide_type": "fragment"
    }
   },
   "source": [
    "* Import the TensorFlow library\n",
    "```python\n",
    "import tensorflow as tf\n",
    "```"
   ]
  },
  {
   "cell_type": "markdown",
   "metadata": {
    "slideshow": {
     "slide_type": "fragment"
    }
   },
   "source": [
    "* Create a session with TensorFlow's run time\n",
    "```python\n",
    "with tf.Session('') as sess:\n",
    "```"
   ]
  },
  {
   "cell_type": "markdown",
   "metadata": {
    "slideshow": {
     "slide_type": "fragment"
    }
   },
   "source": [
    "* Create some operations\n",
    "```python\n",
    "  c = tf.constant('Hello, world!')\n",
    "```"
   ]
  },
  {
   "cell_type": "markdown",
   "metadata": {
    "slideshow": {
     "slide_type": "fragment"
    }
   },
   "source": [
    "* Run the operations\n",
    "```python\n",
    "print(sess.run(c))\n",
    "```"
   ]
  },
  {
   "cell_type": "code",
   "execution_count": 2,
   "metadata": {
    "collapsed": false,
    "slideshow": {
     "slide_type": "slide"
    }
   },
   "outputs": [
    {
     "name": "stdout",
     "output_type": "stream",
     "text": [
      "b'Hello, world!'\n"
     ]
    }
   ],
   "source": [
    "import tensorflow as tf\n",
    "with tf.Session('') as sess:\n",
    "    c = tf.constant('Hello, world!')\n",
    "    print(sess.run(c))"
   ]
  },
  {
   "cell_type": "markdown",
   "metadata": {
    "slideshow": {
     "slide_type": "slide"
    }
   },
   "source": [
    "### InteractiveSession\n",
    "* `with tf.Session(''):` is cumbersome in a REPL, for instance.\n",
    "* Use `tf.InteractiveSession()`\n",
    "```python\n",
    "sess = tf.InteractiveSession()\n",
    "```"
   ]
  },
  {
   "cell_type": "code",
   "execution_count": 3,
   "metadata": {
    "collapsed": false,
    "slideshow": {
     "slide_type": "skip"
    }
   },
   "outputs": [],
   "source": [
    "sess = tf.InteractiveSession()"
   ]
  },
  {
   "cell_type": "markdown",
   "metadata": {
    "slideshow": {
     "slide_type": "slide"
    }
   },
   "source": [
    "### Constants\n",
    "```python\n",
    "# float vector\n",
    "a = tf.constant([1.0, 2.0, 3.0, 4.0])\n",
    "# int32 vector\n",
    "b = tf.constant([5, 6, 7, 8])\n",
    "# int32 2x2 matrix\n",
    "c = tf.constant([5, 6, 7, 8], shape=[2, 2])\n",
    "# int32 2x2 matrix\n",
    "d = tf.constant([[5, 6], [7, 8]])\n",
    "# int32 2x2x1 matrix\n",
    "e = tf.constant([[[5], [6]], [[7], [8]]])\n",
    "```\n",
    "### Types\n",
    "* Integer types\n",
    "  - tf.int32, tf.int64, ...\n",
    "* Floating point types\n",
    "  - tf.float32, tf.float64, tf.complex64, ..\n",
    "* Other\n",
    "  - tf.bool, tf.string"
   ]
  },
  {
   "cell_type": "markdown",
   "metadata": {
    "slideshow": {
     "slide_type": "slide"
    }
   },
   "source": [
    "### Constants from numpy arrays"
   ]
  },
  {
   "cell_type": "code",
   "execution_count": 6,
   "metadata": {
    "collapsed": false
   },
   "outputs": [
    {
     "name": "stdout",
     "output_type": "stream",
     "text": [
      "[[[ 0.94109114  0.22336119]\n",
      "  [ 0.42351116  0.80750355]]\n",
      "\n",
      " [[ 0.88814645  0.39904607]\n",
      "  [ 0.77453257  0.54852613]]]\n"
     ]
    }
   ],
   "source": [
    "c = tf.constant(random.rand(2, 2, 2))\n",
    "print(sess.run(c))"
   ]
  },
  {
   "cell_type": "markdown",
   "metadata": {
    "slideshow": {
     "slide_type": "slide"
    }
   },
   "source": [
    "### Expressions"
   ]
  },
  {
   "cell_type": "code",
   "execution_count": 7,
   "metadata": {
    "collapsed": false
   },
   "outputs": [
    {
     "name": "stdout",
     "output_type": "stream",
     "text": [
      "[[ 72  84]\n",
      " [ 98 114]]\n"
     ]
    }
   ],
   "source": [
    "x = tf.constant([[5, 6], [7, 8]])\n",
    "z = tf.matmul(x, x) + tf.matmul(x, [[1, 0], [0, 1]])\n",
    "# eval() method on expressions is a shorthand for sess.run\n",
    "print(z.eval())  # sess.run(z)"
   ]
  },
  {
   "cell_type": "markdown",
   "metadata": {},
   "source": [
    "![Graph](data/expression.png)"
   ]
  },
  {
   "cell_type": "markdown",
   "metadata": {
    "slideshow": {
     "slide_type": "slide"
    }
   },
   "source": [
    "### Variables\n",
    "* Primary mechanism for \"State\" in TensorFlow"
   ]
  },
  {
   "cell_type": "code",
   "execution_count": 8,
   "metadata": {
    "collapsed": true,
    "slideshow": {
     "slide_type": "fragment"
    }
   },
   "outputs": [],
   "source": [
    "# Create a variable with some initial value\n",
    "v = tf.Variable([[1.0, 2.0], [3.0, 4.0]])"
   ]
  },
  {
   "cell_type": "code",
   "execution_count": 9,
   "metadata": {
    "collapsed": true,
    "slideshow": {
     "slide_type": "fragment"
    }
   },
   "outputs": [],
   "source": [
    "# Get an operation that when run, initializes all variables\n",
    "# declared so far\n",
    "init = tf.initialize_all_variables()"
   ]
  },
  {
   "cell_type": "code",
   "execution_count": 10,
   "metadata": {
    "collapsed": false,
    "slideshow": {
     "slide_type": "fragment"
    }
   },
   "outputs": [
    {
     "name": "stdout",
     "output_type": "stream",
     "text": [
      "[[ 1.  2.]\n",
      " [ 3.  4.]]\n"
     ]
    }
   ],
   "source": [
    "# Initialize the variables\n",
    "init.run()\n",
    "# Inspect the variables\n",
    "print(v.eval())"
   ]
  },
  {
   "cell_type": "code",
   "execution_count": 11,
   "metadata": {
    "collapsed": false,
    "slideshow": {
     "slide_type": "fragment"
    }
   },
   "outputs": [],
   "source": [
    "# Assign a new value to the variable\n",
    "assign_v = v.assign(random.rand(2, 2))"
   ]
  },
  {
   "cell_type": "code",
   "execution_count": 12,
   "metadata": {
    "collapsed": false,
    "slideshow": {
     "slide_type": "fragment"
    }
   },
   "outputs": [
    {
     "name": "stdout",
     "output_type": "stream",
     "text": [
      "[[ 0.34396091  0.68800294]\n",
      " [ 0.93214232  0.27285683]]\n"
     ]
    }
   ],
   "source": [
    "# Perform the assignment and inspect the new value\n",
    "sess.run(assign_v)\n",
    "print(v.eval())"
   ]
  },
  {
   "cell_type": "markdown",
   "metadata": {
    "slideshow": {
     "slide_type": "slide"
    }
   },
   "source": [
    "* Rest of TensorFlow built as libraries on top of these primitives\n",
    "* `tf.nn` library\n",
    "  - Neural network related functions - `softmax`, `relu`, `conv2d`\n",
    "* `tf.image` library\n",
    "  - Image processing functions - `crop`, `adjust_brightness`\n",
    "* `tf.train` - Neural net training related functions\n",
    "  - `GradientDescentOptimizer`, `exponential_decay`"
   ]
  }
 ],
 "metadata": {
  "celltoolbar": "Slideshow",
  "kernelspec": {
   "display_name": "Python 3",
   "language": "python",
   "name": "python3"
  },
  "language_info": {
   "codemirror_mode": {
    "name": "ipython",
    "version": 3
   },
   "file_extension": ".py",
   "mimetype": "text/x-python",
   "name": "python",
   "nbconvert_exporter": "python",
   "pygments_lexer": "ipython3",
   "version": "3.5.2"
  }
 },
 "nbformat": 4,
 "nbformat_minor": 0
}
