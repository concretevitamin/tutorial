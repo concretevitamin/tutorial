{
 "cells": [
  {
   "cell_type": "code",
   "execution_count": 1,
   "metadata": {
    "collapsed": false,
    "slideshow": {
     "slide_type": "skip"
    }
   },
   "outputs": [
    {
     "name": "stdout",
     "output_type": "stream",
     "text": [
      "Populating the interactive namespace from numpy and matplotlib\n"
     ]
    }
   ],
   "source": [
    "%pylab inline\n",
    "from IPython.display import Image, display\n",
    "\n",
    "import tensorflow as tf\n",
    "sess = tf.InteractiveSession() "
   ]
  },
  {
   "cell_type": "markdown",
   "metadata": {
    "slideshow": {
     "slide_type": "slide"
    }
   },
   "source": [
    "## Word2Vec"
   ]
  },
  {
   "cell_type": "markdown",
   "metadata": {
    "slideshow": {
     "slide_type": "slide"
    }
   },
   "source": [
    "# Task"
   ]
  },
  {
   "cell_type": "markdown",
   "metadata": {
    "slideshow": {
     "slide_type": "fragment"
    }
   },
   "source": [
    "\n",
    "* Represent a word as a vector\n",
    "  - Two related words should have two vectors close by.\n",
    "* Data. \n",
    "  - 全唐诗 + 全宋词"
   ]
  },
  {
   "cell_type": "markdown",
   "metadata": {
    "slideshow": {
     "slide_type": "slide"
    }
   },
   "source": [
    "## Data"
   ]
  },
  {
   "cell_type": "code",
   "execution_count": 2,
   "metadata": {
    "collapsed": false,
    "slideshow": {
     "slide_type": "fragment"
    }
   },
   "outputs": [
    {
     "name": "stdout",
     "output_type": "stream",
     "text": [
      "Total chars =  3987351\n",
      "Unique chars =  7955\n",
      "惊雁落虚弦啼猿悲急箭阅赏诚多美于兹乃忘倦\n",
      "[2066, 7208, 5632, 5795, 1858, 954, 3918, 2056, 1981, 4756, 7108, 6383, 6217, 1257, 5122, 171, 492, 141, 1939, 381]\n"
     ]
    }
   ],
   "source": [
    "words = open('./data/poem.txt').read().replace('。', '').replace('，', '').replace('\\n', '')\n",
    "print(\"Total chars = \", len(words))\n",
    "words_as_set = set(words)\n",
    "print(\"Unique chars = \", len(words_as_set))\n",
    "id_to_word = sorted(words_as_set)\n",
    "word_to_id = {w: i for i, w in enumerate(id_to_word)}\n",
    "data = [word_to_id[w] for w in words]\n",
    "print(words[100:120])\n",
    "print(data[100:120])"
   ]
  },
  {
   "cell_type": "code",
   "execution_count": 3,
   "metadata": {
    "collapsed": false,
    "slideshow": {
     "slide_type": "slide"
    }
   },
   "outputs": [
    {
     "name": "stdout",
     "output_type": "stream",
     "text": [
      "4562 1707\n",
      "4562 7209\n",
      "4562 1746\n",
      "4562 1472\n",
      "4562 552\n",
      "4562 6301\n",
      "4562 1242\n",
      "4562 4228\n",
      "4562 1565\n",
      "4562 5013\n"
     ]
    }
   ],
   "source": [
    "def skipgram_generator(window=8):\n",
    "    curr = 0\n",
    "    while True:\n",
    "        curr %= len(data)\n",
    "        x = data[curr]\n",
    "        left = data[max(0, curr - window):curr]\n",
    "        right = data[curr+1:x+window]\n",
    "        for y in left + right:\n",
    "            yield (x, y)\n",
    "        curr += 1\n",
    "        \n",
    "skipgram = skipgram_generator()\n",
    "\n",
    "for _ in range(10):\n",
    "    x, y = next(skipgram)\n",
    "    print(x, y)\n"
   ]
  },
  {
   "cell_type": "code",
   "execution_count": 4,
   "metadata": {
    "collapsed": false,
    "scrolled": true,
    "slideshow": {
     "slide_type": "slide"
    }
   },
   "outputs": [
    {
     "name": "stdout",
     "output_type": "stream",
     "text": [
      "([4562, 4562, 4562, 4562], [3175, 689, 1532, 6413])\n",
      "([4562, 4562, 4562, 4562], [4543, 1497, 4224, 7213])\n",
      "([4562, 4562, 4562, 4562], [7458, 6659, 5750, 6730])\n",
      "([4562, 4562, 4562, 4562], [2386, 3229, 7408, 6101])\n",
      "([4562, 4562, 4562, 4562], [6663, 533, 5795, 173])\n",
      "([4562, 4562, 4562, 4562], [2601, 7187, 1563, 7128])\n",
      "([4562, 4562, 4562, 4562], [7396, 3717, 550, 5013])\n",
      "([4562, 4562, 4562, 4562], [4139, 1608, 1820, 5099])\n",
      "([4562, 4562, 4562, 4562], [2748, 630, 1636, 2553])\n",
      "([4562, 4562, 4562, 4562], [5201, 7524, 6608, 3938])\n"
     ]
    }
   ],
   "source": [
    "def get_batch(batchsize=128):\n",
    "    xs, ys = [], []\n",
    "    for _ in range(batchsize):\n",
    "        (x, y) = next(skipgram)\n",
    "        xs += [x]\n",
    "        ys += [y]\n",
    "    return xs, ys\n",
    "\n",
    "for _ in range(10):\n",
    "    print(get_batch(4))"
   ]
  },
  {
   "cell_type": "markdown",
   "metadata": {
    "slideshow": {
     "slide_type": "slide"
    }
   },
   "source": [
    "# Model"
   ]
  },
  {
   "cell_type": "code",
   "execution_count": 5,
   "metadata": {
    "collapsed": true,
    "slideshow": {
     "slide_type": "slide"
    }
   },
   "outputs": [],
   "source": [
    "NDIMS=128\n",
    "NWORDS=len(id_to_word)\n",
    "embedding = tf.Variable(tf.random_uniform([NWORDS, NDIMS], -0.02, 0.02))"
   ]
  },
  {
   "cell_type": "code",
   "execution_count": 6,
   "metadata": {
    "collapsed": true,
    "slideshow": {
     "slide_type": "slide"
    }
   },
   "outputs": [],
   "source": [
    "inputs = tf.placeholder(tf.int64)\n",
    "targets = tf.placeholder(tf.int64)\n",
    "\n",
    "def model():\n",
    "    x_emb = tf.nn.embedding_lookup(embedding, inputs)\n",
    "    y_emb = tf.nn.embedding_lookup(embedding, targets)\n",
    "    scores = tf.reduce_sum(x_emb * y_emb, [1])\n",
    "    probs = tf.sigmoid(scores)\n",
    "    logp = tf.log(probs)\n",
    "    mean_logp = tf.reduce_mean(logp)\n",
    "    return -mean_logp\n"
   ]
  },
  {
   "cell_type": "code",
   "execution_count": 7,
   "metadata": {
    "collapsed": false,
    "slideshow": {
     "slide_type": "slide"
    }
   },
   "outputs": [
    {
     "name": "stdout",
     "output_type": "stream",
     "text": [
      "loss =  [0.6930995]\n",
      "loss =  [0.69303513]\n",
      "loss =  [0.69310725]\n"
     ]
    }
   ],
   "source": [
    "loss = model()\n",
    "\n",
    "tf.initialize_all_variables().run()\n",
    "for _ in range(3):\n",
    "    xs, ys = get_batch()\n",
    "    print(\"loss = \", sess.run([loss], {inputs:xs, targets:ys}))"
   ]
  },
  {
   "cell_type": "code",
   "execution_count": 8,
   "metadata": {
    "collapsed": true,
    "slideshow": {
     "slide_type": "slide"
    }
   },
   "outputs": [],
   "source": [
    "global_step = tf.Variable(0, trainable=False)\n",
    "\n",
    "def train(learning_rate=1.0):\n",
    "    loss = model()\n",
    "    vars = tf.trainable_variables()\n",
    "    grads = tf.gradients(loss, vars)\n",
    "    optimizer = tf.train.GradientDescentOptimizer(learning_rate)\n",
    "    train_op = optimizer.apply_gradients(zip(grads, vars), global_step=global_step)\n",
    "    return loss, train_op\n",
    "\n",
    "loss, train_op = train()\n"
   ]
  },
  {
   "cell_type": "code",
   "execution_count": 9,
   "metadata": {
    "collapsed": false,
    "slideshow": {
     "slide_type": "slide"
    }
   },
   "outputs": [
    {
     "name": "stdout",
     "output_type": "stream",
     "text": [
      "step 0: 0.6932\n",
      "step 1000: 0.6924\n"
     ]
    }
   ],
   "source": [
    "tf.initialize_all_variables().run()\n",
    "for steps in range(2000):\n",
    "    xs, ys = get_batch(batchsize=1024)\n",
    "    l, _ = sess.run([loss, train_op], feed_dict={inputs:xs, targets:ys})\n",
    "    if steps % 1000 == 0:\n",
    "        print('step %d: %.4f' % (steps, l))"
   ]
  },
  {
   "cell_type": "code",
   "execution_count": 18,
   "metadata": {
    "collapsed": false,
    "slideshow": {
     "slide_type": "slide"
    }
   },
   "outputs": [
    {
     "data": {
      "text/plain": [
       "'./data/w2v_params-11100001'"
      ]
     },
     "execution_count": 18,
     "metadata": {},
     "output_type": "execute_result"
    }
   ],
   "source": [
    "saver = tf.train.Saver(tf.all_variables())\n",
    "saver.save(sess, './data/w2v_params', global_step=global_step.eval())"
   ]
  },
  {
   "cell_type": "markdown",
   "metadata": {
    "slideshow": {
     "slide_type": "slide"
    }
   },
   "source": [
    "## Nearest neighbors"
   ]
  },
  {
   "cell_type": "code",
   "execution_count": 19,
   "metadata": {
    "collapsed": false,
    "scrolled": true
   },
   "outputs": [],
   "source": [
    "word_ids = tf.placeholder(tf.int64)\n",
    "norm_embs = tf.nn.l2_normalize(embedding, 1)\n",
    "word_embs = tf.nn.embedding_lookup(norm_embs, word_ids)\n",
    "dist = tf.matmul(word_embs, norm_embs, transpose_b=True)\n",
    "topk = tf.nn.top_k(dist, k=10)\n",
    "\n",
    "def word_to_ids(words):\n",
    "    ids = []\n",
    "    for w in words:\n",
    "        if w in word_to_id:\n",
    "            ids += [word_to_id[w]]\n",
    "        else:\n",
    "            ids += [word_to_id['。']]\n",
    "    return ids\n",
    "\n",
    "def nearby(words):\n",
    "    dist, ids = sess.run(topk, feed_dict={word_ids:word_to_ids(words)})\n",
    "    for (p, r) in zip(dist, ids):\n",
    "        print([id_to_word[w] for w in r])"
   ]
  },
  {
   "cell_type": "code",
   "execution_count": 20,
   "metadata": {
    "collapsed": false,
    "scrolled": true,
    "slideshow": {
     "slide_type": "slide"
    }
   },
   "outputs": [
    {
     "name": "stdout",
     "output_type": "stream",
     "text": [
      "['千', '羑', '惧', '婆', '刾', '琭', '卦', '馺', '欶', '瑚']\n",
      "['里', '粱', '萋', '韍', '兑', '祲', '讴', '脂', '馺', '订']\n",
      "['冰', '曌', '霙', '招', '墍', '裂', '湿', '撄', '绅', '蒻']\n",
      "['封', '饾', '畋', '阎', '煨', '愊', '蹩', '吾', '逊', '骜']\n",
      "['万', '凌', '珽', '钢', '揲', '僧', '牡', '尚', '押', '胶']\n",
      "['里', '粱', '萋', '韍', '兑', '祲', '讴', '脂', '馺', '订']\n",
      "['雪', '紫', '蘋', '紖', '槌', '栖', '波', '中', '怒', '鞅']\n",
      "['飘', '缺', '痊', '娣', '炊', '槽', '靸', '哑', '暵', '羸']\n"
     ]
    }
   ],
   "source": [
    "tf.initialize_all_variables().run()\n",
    "nearby('千里冰封万里雪飘')"
   ]
  },
  {
   "cell_type": "code",
   "execution_count": 21,
   "metadata": {
    "collapsed": false,
    "scrolled": true,
    "slideshow": {
     "slide_type": "slide"
    }
   },
   "outputs": [
    {
     "name": "stdout",
     "output_type": "stream",
     "text": [
      "['千', '鸟', '风', '高', '相', '上', '何', '、', '马', '夜']\n",
      "['里', '风', '人', '山', '天', '飞', '不', '时', '高', '春']\n",
      "['冰', '风', '一', '龙', '不', '重', '云', '高', '白', '月']\n",
      "['封', '中', '上', '一', '将', '为', '衣', '光', '、', '去']\n",
      "['万', '人', '玉', '水', '山', '一', '风', '花', '百', '长']\n",
      "['里', '风', '人', '山', '天', '飞', '不', '时', '高', '春']\n",
      "['雪', '有', '花', '风', '春', '云', '飞', '人', '时', '光']\n",
      "['飘', '风', '人', '、', '自', '千', '为', '春', '月', '是']\n"
     ]
    }
   ],
   "source": [
    "saver.restore(sess, './data/w2v_params-11100001')\n",
    "nearby('千里冰封万里雪飘')"
   ]
  },
  {
   "cell_type": "markdown",
   "metadata": {
    "slideshow": {
     "slide_type": "slide"
    }
   },
   "source": [
    "## Analogy"
   ]
  },
  {
   "cell_type": "code",
   "execution_count": 14,
   "metadata": {
    "collapsed": false
   },
   "outputs": [],
   "source": [
    "word_ids = tf.placeholder(tf.int64, shape=[3])\n",
    "norm_embs = tf.nn.l2_normalize(embedding, 1)\n",
    "word_embs = tf.nn.embedding_lookup(norm_embs, word_ids)\n",
    "target = tf.expand_dims(word_embs[1, :] - word_embs[0, :] + word_embs[2, :], 0)\n",
    "dist = tf.matmul(target, norm_embs, transpose_b=True)\n",
    "topk = tf.nn.top_k(dist, k=10)\n",
    "\n",
    "def analogy(a, b, x):\n",
    "    dist, ids = sess.run(topk, feed_dict={word_ids:word_to_ids([a, b, x])})\n",
    "    for (p, r) in zip(dist, ids):\n",
    "        print([id_to_word[w] for w in r])"
   ]
  },
  {
   "cell_type": "code",
   "execution_count": 15,
   "metadata": {
    "collapsed": false,
    "slideshow": {
     "slide_type": "slide"
    }
   },
   "outputs": [
    {
     "name": "stdout",
     "output_type": "stream",
     "text": [
      "['左', '下', '长', '忽', '未', '一', '如', '愁', '见', '不']\n"
     ]
    }
   ],
   "source": [
    "analogy('上', '下', '左')"
   ]
  }
 ],
 "metadata": {
  "celltoolbar": "Slideshow",
  "kernelspec": {
   "display_name": "Python 3",
   "language": "python",
   "name": "python3"
  },
  "language_info": {
   "codemirror_mode": {
    "name": "ipython",
    "version": 3
   },
   "file_extension": ".py",
   "mimetype": "text/x-python",
   "name": "python",
   "nbconvert_exporter": "python",
   "pygments_lexer": "ipython3",
   "version": "3.4.3"
  }
 },
 "nbformat": 4,
 "nbformat_minor": 0
}
